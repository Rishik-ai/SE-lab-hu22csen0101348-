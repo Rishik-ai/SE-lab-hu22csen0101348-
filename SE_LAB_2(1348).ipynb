{
  "nbformat": 4,
  "nbformat_minor": 0,
  "metadata": {
    "colab": {
      "provenance": [],
      "authorship_tag": "ABX9TyMzNcGZr9TR1Efv9cOOveAr",
      "include_colab_link": true
    },
    "kernelspec": {
      "name": "python3",
      "display_name": "Python 3"
    },
    "language_info": {
      "name": "python"
    }
  },
  "cells": [
    {
      "cell_type": "markdown",
      "metadata": {
        "id": "view-in-github",
        "colab_type": "text"
      },
      "source": [
        "<a href=\"https://colab.research.google.com/github/Rishik-ai/SE-lab-hu22csen0101348-/blob/main/SE_LAB_2(1348).ipynb\" target=\"_parent\"><img src=\"https://colab.research.google.com/assets/colab-badge.svg\" alt=\"Open In Colab\"/></a>"
      ]
    },
    {
      "cell_type": "code",
      "execution_count": null,
      "metadata": {
        "id": "l5C6zq4rVQPf"
      },
      "outputs": [],
      "source": [
        "#Implement weather modelling using the quadratic solution in stages: hardcore variables,keyboard input, read from file, for a single set of input,for multipleset of inputs"
      ]
    },
    {
      "cell_type": "code",
      "source": [
        "#temperature function\n",
        "def Temperature_modeling(a,b,c,time):\n",
        "  temperature=a*time**2+b*time+c\n",
        "  return temperature"
      ],
      "metadata": {
        "id": "Ip4funESVw1k"
      },
      "execution_count": 1,
      "outputs": []
    },
    {
      "cell_type": "code",
      "source": [
        "#hardocre variables\n",
        "a,b,c=0.1,2,10\n",
        "time=5"
      ],
      "metadata": {
        "id": "hW5EXpahV54M"
      },
      "execution_count": 2,
      "outputs": []
    },
    {
      "cell_type": "code",
      "source": [
        "print(\"Hard-coded variables for weather modeling\")\n",
        "print(\"Temperature for hardcoded coefficients at time\",time,\"hours:\",Temperature_modeling(a,b,c,time))"
      ],
      "metadata": {
        "colab": {
          "base_uri": "https://localhost:8080/"
        },
        "id": "jY-7sahEV7er",
        "outputId": "4a78087e-aa68-45a0-8c47-ba7d5b71b304"
      },
      "execution_count": 3,
      "outputs": [
        {
          "output_type": "stream",
          "name": "stdout",
          "text": [
            "Hard-coded variables for weather modeling\n",
            "Temperature for hardcoded coefficients at time 5 hours: 22.5\n"
          ]
        }
      ]
    },
    {
      "cell_type": "code",
      "source": [
        "a=float(input(\"Enter coefficent a:\"))\n",
        "b=float(input(\"Enter coefficent b:\"))\n",
        "c=float(input(\"Enter coefficent c:\"))\n",
        "time=float(input(\"Enter time in hours:\"))"
      ],
      "metadata": {
        "colab": {
          "base_uri": "https://localhost:8080/"
        },
        "id": "Z244QrIIV9_H",
        "outputId": "6c660583-83f9-4371-8b91-26dedc17a1e2"
      },
      "execution_count": 4,
      "outputs": [
        {
          "name": "stdout",
          "output_type": "stream",
          "text": [
            "Enter coefficent a:0.1\n",
            "Enter coefficent b:3\n",
            "Enter coefficent c:10\n",
            "Enter time in hours:4\n"
          ]
        }
      ]
    },
    {
      "cell_type": "code",
      "source": [
        "print(\"Hard-coded variables for weather modeling\")\n",
        "print(\"Temperature for hardcoded coefficients at time\",time,\"hours:\",Temperature_modeling(a,b,c,time))"
      ],
      "metadata": {
        "colab": {
          "base_uri": "https://localhost:8080/"
        },
        "id": "_jIqa9aPWJHJ",
        "outputId": "9ee8ceca-1fd1-4e97-aeca-427b35ba7ed0"
      },
      "execution_count": 5,
      "outputs": [
        {
          "output_type": "stream",
          "name": "stdout",
          "text": [
            "Hard-coded variables for weather modeling\n",
            "Temperature for hardcoded coefficients at time 4.0 hours: 23.6\n"
          ]
        }
      ]
    },
    {
      "cell_type": "code",
      "source": [
        "def read_from_file(sample):\n",
        "  with open(sample,'r') as file:\n",
        "    lines=file.readlines()\n",
        "  coefficients=[tuple(map(float,line.strip().split(',')))for line in lines]\n",
        "  return coefficients"
      ],
      "metadata": {
        "id": "FXj9qmg4WRBM"
      },
      "execution_count": 8,
      "outputs": []
    },
    {
      "cell_type": "code",
      "source": [
        "coefficients=read_from_file('/sample.txt')\n",
        "a,b,c,time=coefficients[0]\n",
        "temperature=Temperature_modeling(a,b,c,time)\n",
        "print(\"read from a file for wather modeling\")\n",
        "print(\"Temperature for hardcoded coefficients at time\",time,\"hours:\",temperature)"
      ],
      "metadata": {
        "colab": {
          "base_uri": "https://localhost:8080/"
        },
        "id": "N28oUXYUWTl3",
        "outputId": "1de95666-c24c-4b8c-df6e-2a0b48b686dc"
      },
      "execution_count": 10,
      "outputs": [
        {
          "output_type": "stream",
          "name": "stdout",
          "text": [
            "read from a file for wather modeling\n",
            "Temperature for hardcoded coefficients at time 1.0 hours: 9.0\n"
          ]
        }
      ]
    },
    {
      "cell_type": "code",
      "source": [
        "for idx, (a,b,c,time) in enumerate(coefficients):\n",
        "  temperature=Temperature_modeling(a,b,c,time)\n",
        "  print(\"Temperature from keyboard coefficients at time\",time,\"hours:\",Temperature_modeling(a,b,c,time))"
      ],
      "metadata": {
        "colab": {
          "base_uri": "https://localhost:8080/"
        },
        "id": "ULeVib0BXVq0",
        "outputId": "6bf8f50a-0437-4fa5-8ab2-0e1e93c47356"
      },
      "execution_count": 11,
      "outputs": [
        {
          "output_type": "stream",
          "name": "stdout",
          "text": [
            "Temperature from keyboard coefficients at time 1.0 hours: 9.0\n",
            "Temperature from keyboard coefficients at time 3.0 hours: 67.0\n",
            "Temperature from keyboard coefficients at time 4.0 hours: 49.0\n"
          ]
        }
      ]
    }
  ]
}